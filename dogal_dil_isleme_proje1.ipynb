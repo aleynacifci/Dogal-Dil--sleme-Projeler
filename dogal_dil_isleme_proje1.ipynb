{
  "nbformat": 4,
  "nbformat_minor": 0,
  "metadata": {
    "colab": {
      "provenance": [],
      "authorship_tag": "ABX9TyMh7q+kBLcKE3/PJyXK+zEQ",
      "include_colab_link": true
    },
    "kernelspec": {
      "name": "python3",
      "display_name": "Python 3"
    },
    "language_info": {
      "name": "python"
    }
  },
  "cells": [
    {
      "cell_type": "markdown",
      "metadata": {
        "id": "view-in-github",
        "colab_type": "text"
      },
      "source": [
        "<a href=\"https://colab.research.google.com/github/aleynacifci/dogal_dil_isleme/blob/main/dogal_dil_isleme_proje1.ipynb\" target=\"_parent\"><img src=\"https://colab.research.google.com/assets/colab-badge.svg\" alt=\"Open In Colab\"/></a>"
      ]
    },
    {
      "cell_type": "code",
      "source": [
        "def dil_tespiti(metin):\n",
        "    # Dillerin karakteristik kelimeleri\n",
        "    turkce_kelimeler = {\"ve\", \"bu\", \"çok\", \"bir\", \"değil\", \"olarak\", \"ama\", \"da\", \"de\",\"ve\", \"bu\", \"çok\", \"bir\", \"değil\", \"olarak\", \"ama\", \"da\", \"de\",\n",
        "        \"için\", \"ile\", \"de\", \"en\", \"kadar\", \"sonra\", \"şu\", \"ki\", \"yani\",\"ben\", \"sen\", \"o\", \"biz\",\n",
        "        \"siz\", \"onlar\", \"bir\", \"yok\", \"var\", \"ne\", \"nerede\", \"neden\", \"nasıl\",\n",
        "        \"zaman\", \"çünkü\", \"daha\", \"gibi\", \"diğer\", \"ilk\", \"son\", \"çok\", \"şimdi\"}\n",
        "\n",
        "    ingilizce_kelimeler = {\"and\", \"the\", \"is\", \"of\", \"a\", \"in\", \"to\", \"that\", \"with\", \"the\", \"be\", \"to\", \"of\", \"and\", \"a\", \"in\", \"that\", \"have\", \"I\", \"it\", \"for\",\n",
        "        \"not\", \"on\", \"with\", \"he\", \"as\", \"you\", \"do\", \"at\", \"this\", \"but\", \"his\",\n",
        "        \"by\", \"from\", \"they\", \"we\", \"say\", \"her\", \"she\", \"or\", \"an\", \"will\", \"my\",\n",
        "        \"one\", \"all\", \"would\", \"there\", \"their\", \"what\", \"so\", \"up\", \"out\", \"if\"}\n",
        "\n",
        "    almanca_kelimeler = {\"und\", \"der\", \"die\", \"das\", \"nicht\", \"zu\", \"auf\", \"ein\", \"ist\",\"der\", \"die\", \"und\", \"in\", \"zu\", \"den\", \"das\", \"nicht\", \"von\", \"sie\",\n",
        "        \"ist\", \"des\", \"sich\", \"mit\", \"dem\", \"dass\", \"er\", \"es\", \"ein\", \"ich\",\n",
        "        \"auf\", \"so\", \"eine\", \"auch\", \"als\", \"an\", \"nach\", \"wie\", \"im\", \"für\",\n",
        "        \"man\", \"aber\", \"aus\", \"durch\", \"wenn\", \"nur\", \"war\", \"noch\", \"werden\",\n",
        "        \"bei\", \"hat\", \"wir\", \"was\", \"wird\", \"sein\", \"einen\", \"kann\", \"da\", \"sein\"}\n",
        "\n",
        "    fransizca_kelimeler = {\"le\", \"la\", \"et\", \"est\", \"pas\", \"dans\", \"que\", \"un\", \"pour\",\"le\", \"de\", \"un\", \"être\", \"et\", \"à\", \"il\", \"avoir\", \"ne\", \"je\", \"son\",\n",
        "        \"que\", \"se\", \"qui\", \"dans\", \"ce\", \"en\", \"du\", \"elle\", \"au\", \"de\", \"la\",\n",
        "        \"les\", \"ce\", \"pas\", \"pour\", \"vous\", \"par\", \"mais\", \"sur\", \"plus\", \"dire\",\n",
        "        \"pouvoir\", \"lui\", \"nous\", \"comme\", \"leur\", \"faire\", \"ou\", \"aussi\",\n",
        "        \"aller\", \"bien\", \"où\", \"sans\", \"tout\", \"quel\", \"avant\", \"donc\", \"venir\", \"entre\"}\n",
        "\n",
        "    ispanyolca_kelimeler = {\"de\", \"la\", \"que\", \"el\", \"en\", \"y\", \"a\", \"los\", \"se\", \"del\", \"las\", \"por\",\n",
        "        \"un\", \"para\", \"con\", \"no\", \"una\", \"su\", \"al\", \"lo\", \"como\", \"más\", \"pero\",\n",
        "        \"sus\", \"le\", \"ya\", \"o\", \"fue\", \"este\", \"ha\", \"sí\", \"porque\", \"esta\", \"son\",\n",
        "        \"entre\", \"cuando\", \"muy\", \"sin\", \"sobre\", \"también\", \"me\", \"hasta\", \"hay\",\n",
        "        \"donde\", \"quien\", \"desde\", \"todo\"}\n",
        "\n",
        "    # Metni küçük harflere çevirip kelimelere ayırma\n",
        "    kelimeler = set(metin.lower().split())\n",
        "\n",
        "    # Her dilde kaç karakteristik kelime bulunduğunu sayma\n",
        "    turkce_sayisi = len(kelimeler & turkce_kelimeler)\n",
        "    ingilizce_sayisi = len(kelimeler & ingilizce_kelimeler)\n",
        "    almanca_sayisi = len(kelimeler & almanca_kelimeler)\n",
        "    fransizca_sayisi = len(kelimeler & fransizca_kelimeler)\n",
        "    ispanyolca_sayisi = len(kelimeler & ispanyolca_kelimeler)\n",
        "\n",
        "    # Eşleşen kelime sayısını bir sözlükte saklama\n",
        "    sayilar = {\n",
        "        \"Türkçe\": turkce_sayisi,\n",
        "        \"İngilizce\": ingilizce_sayisi,\n",
        "        \"Almanca\": almanca_sayisi,\n",
        "        \"Fransızca\": fransizca_sayisi,\n",
        "        \"İspanyolca\": ispanyolca_sayisi\n",
        "    }\n",
        "\n",
        "    # Maksimum sayıya sahip dili bulma\n",
        "    tespit_edilen_dil = max(sayilar, key=sayilar.get) #kaç kelime tespit ettik\n",
        "\n",
        "    # Eğer hiçbir dilde karakteristik kelime yoksa sonucu belirleyemeyiz\n",
        "    if sayilar[tespit_edilen_dil] == 0:\n",
        "        return \"Dil tespit edilemedi\"\n",
        "\n",
        "    return tespit_edilen_dil\n",
        "\n",
        "    # Kullanıcıdan metin alma\n",
        "metin = input(\"Lütfen bir metin giriniz: \")\n",
        "print(\"Metnin dili:\", dil_tespiti(metin))"
      ],
      "metadata": {
        "colab": {
          "base_uri": "https://localhost:8080/"
        },
        "id": "-Jx4WDcjVRlu",
        "outputId": "a4f4d499-f29d-4fa1-dce0-30e07d90becf"
      },
      "execution_count": null,
      "outputs": [
        {
          "output_type": "stream",
          "name": "stdout",
          "text": [
            "Lütfen bir metin giriniz: In diesem Wörterbuch sind längere Wortlisten für jede Sprache verfügbar, die eine genauere Analyse ermöglichen.\n",
            "Metnin dili: Almanca\n"
          ]
        }
      ]
    }
  ]
}