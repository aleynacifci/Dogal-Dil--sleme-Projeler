{
  "nbformat": 4,
  "nbformat_minor": 0,
  "metadata": {
    "colab": {
      "provenance": [],
      "authorship_tag": "ABX9TyPmuJxPWb9P9+4TODyxlMhG",
      "include_colab_link": true
    },
    "kernelspec": {
      "name": "python3",
      "display_name": "Python 3"
    },
    "language_info": {
      "name": "python"
    }
  },
  "cells": [
    {
      "cell_type": "markdown",
      "metadata": {
        "id": "view-in-github",
        "colab_type": "text"
      },
      "source": [
        "<a href=\"https://colab.research.google.com/github/aleynacifci/dogal_dil_isleme/blob/main/dogal_dil_isleme_proje1.ipynb\" target=\"_parent\"><img src=\"https://colab.research.google.com/assets/colab-badge.svg\" alt=\"Open In Colab\"/></a>"
      ]
    },
    {
      "cell_type": "code",
      "source": [
        "def dil_tespiti(metin):\n",
        "    turkce_kelimeler = {\"ve\", \"bu\", \"çok\", \"bir\", \"değil\", \"olarak\", \"ama\", \"da\", \"de\",\"ve\", \"bu\", \"çok\", \"bir\", \"değil\", \"olarak\", \"ama\", \"da\", \"de\",\n",
        "    \"için\", \"ile\", \"de\", \"en\", \"kadar\", \"sonra\", \"şu\", \"ki\", \"yani\",\"ben\", \"sen\", \"o\", \"biz\",\n",
        "    \"siz\", \"onlar\", \"bir\", \"yok\", \"var\", \"ne\", \"nerede\", \"neden\", \"nasıl\",\n",
        "    \"zaman\", \"çünkü\", \"daha\", \"gibi\", \"diğer\", \"ilk\", \"son\", \"çok\", \"şimdi\",\"kitap\", \"masa\", \"kalem\", \"bilgisayar\", \"telefon\", \"gökyüzü\", \"yol\", \"ev\", \"şehir\", \"ülke\",\n",
        "    \"araba\", \"kapı\", \"insan\", \"çocuk\", \"aile\", \"arkadaş\", \"okul\", \"üniversite\", \"bilim\", \"sanat\",\n",
        "    \"güzel\", \"kötü\", \"hızlı\", \"yavaş\", \"zor\", \"kolay\", \"sıcak\", \"soğuk\", \"mutlu\", \"üzgün\",\n",
        "    \"doğa\", \"hayvan\", \"bitki\", \"çiçek\", \"deniz\", \"dağ\", \"orman\", \"nehir\", \"göl\", \"ada\",\n",
        "    \"aç\", \"tok\", \"gece\", \"gündüz\", \"sabah\", \"öğle\", \"akşam\", \"kar\", \"yağmur\", \"rüzgar\",\n",
        "    \"güneş\", \"ay\", \"yıldız\", \"hava\", \"ateş\", \"su\", \"toprak\", \"göz\", \"kulak\", \"burun\",\n",
        "    \"ağız\", \"saç\", \"el\", \"ayak\", \"dil\", \"diş\", \"yüz\", \"kalp\", \"akıl\", \"ruh\",\n",
        "    \"sağlık\", \"hastalık\", \"ilaç\", \"doktor\", \"hasta\", \"hayat\", \"ölüm\", \"zaman\", \"an\", \"saat\",\n",
        "    \"dakika\", \"gün\", \"hafta\", \"ay\", \"yıl\", \"asır\", \"baş\", \"son\", \"ön\", \"arka\",\n",
        "    \"yeni\", \"eski\", \"genç\", \"yaşlı\", \"kırmızı\", \"mavi\", \"yeşil\", \"sarı\", \"beyaz\", \"siyah\"}\n",
        "\n",
        "    ingilizce_kelimeler = {\"and\", \"the\", \"is\", \"of\", \"a\", \"in\", \"to\", \"that\", \"with\", \"the\", \"be\", \"to\", \"of\", \"and\", \"a\", \"in\", \"that\", \"have\", \"I\", \"it\", \"for\",\n",
        "    \"not\", \"on\", \"with\", \"he\", \"as\", \"you\", \"do\", \"at\", \"this\", \"but\", \"his\",\n",
        "    \"by\", \"from\", \"they\", \"we\", \"say\", \"her\", \"she\", \"or\", \"an\", \"will\", \"my\",\n",
        "    \"one\", \"all\", \"would\", \"there\", \"their\", \"what\", \"so\", \"up\", \"out\", \"if\", \"book\", \"table\", \"pen\", \"computer\", \"phone\", \"sky\", \"road\", \"house\", \"city\", \"country\",\n",
        "    \"car\", \"door\", \"person\", \"child\", \"family\", \"friend\", \"school\", \"university\", \"science\", \"art\",\n",
        "    \"beautiful\", \"bad\", \"fast\", \"slow\", \"hard\", \"easy\", \"hot\", \"cold\", \"happy\", \"sad\",\n",
        "    \"nature\", \"animal\", \"plant\", \"flower\", \"sea\", \"mountain\", \"forest\", \"river\", \"lake\", \"island\",\n",
        "    \"hungry\", \"full\", \"night\", \"day\", \"morning\", \"noon\", \"evening\", \"snow\", \"rain\", \"wind\",\n",
        "    \"sun\", \"moon\", \"star\", \"weather\", \"fire\", \"water\", \"earth\", \"eye\", \"ear\", \"nose\",\n",
        "    \"mouth\", \"hair\", \"hand\", \"foot\", \"language\", \"tooth\", \"face\", \"heart\", \"mind\", \"soul\",\n",
        "    \"health\", \"disease\", \"medicine\", \"doctor\", \"patient\", \"life\", \"death\", \"time\", \"moment\", \"hour\",\n",
        "    \"minute\", \"day\", \"week\", \"month\", \"year\", \"century\", \"head\", \"end\", \"front\", \"back\",\n",
        "    \"new\", \"old\", \"young\", \"old\", \"red\", \"blue\", \"green\", \"yellow\", \"white\", \"black\"}\n",
        "\n",
        "    almanca_kelimeler = {\"und\", \"der\", \"die\", \"das\", \"nicht\", \"zu\", \"auf\", \"ein\", \"ist\",\"der\", \"die\", \"und\", \"in\", \"zu\", \"den\", \"das\", \"nicht\", \"von\", \"sie\",\n",
        "    \"ist\", \"des\", \"sich\", \"mit\", \"dem\", \"dass\", \"er\", \"es\", \"ein\", \"ich\",\n",
        "    \"auf\", \"so\", \"eine\", \"auch\", \"als\", \"an\", \"nach\", \"wie\", \"im\", \"für\",\n",
        "    \"man\", \"aber\", \"aus\", \"durch\", \"wenn\", \"nur\", \"war\", \"noch\", \"werden\",\n",
        "    \"bei\", \"hat\", \"wir\", \"was\", \"wird\", \"sein\", \"einen\", \"kann\", \"da\", \"sein\",\"buch\", \"tisch\", \"stift\", \"computer\", \"telefon\", \"himmel\", \"straße\", \"haus\", \"stadt\", \"land\",\"auto\", \"tür\", \"person\", \"kind\", \"familie\", \"freund\", \"schule\", \"universität\", \"wissenschaft\", \"kunst\",\n",
        "    \"schön\", \"schlecht\", \"schnell\", \"langsam\", \"schwierig\", \"einfach\", \"heiß\", \"kalt\", \"glücklich\", \"traurig\",\n",
        "    \"natur\", \"tier\", \"pflanze\", \"blume\", \"meer\", \"berg\", \"wald\", \"fluss\", \"see\", \"insel\",\n",
        "    \"hungrig\", \"satt\", \"nacht\", \"tag\", \"morgen\", \"mittag\", \"abend\", \"schnee\", \"regen\", \"wind\",\n",
        "    \"sonne\", \"mond\", \"stern\", \"wetter\", \"feuer\", \"wasser\", \"erde\", \"auge\", \"ohr\", \"nase\",\n",
        "    \"mund\", \"haar\", \"hand\", \"fuß\", \"sprache\", \"zahn\", \"gesicht\", \"herz\", \"verstand\", \"seele\",\n",
        "    \"gesundheit\", \"krankheit\", \"medizin\", \"arzt\", \"patient\", \"leben\", \"tod\", \"zeit\", \"moment\", \"stunde\",\n",
        "    \"minute\", \"tag\", \"woche\", \"monat\", \"jahr\", \"jahrhundert\", \"kopf\", \"ende\", \"vorn\", \"hinten\",\n",
        "    \"neu\", \"alt\", \"jung\", \"alt\", \"rot\", \"blau\", \"grün\", \"gelb\", \"weiß\", \"schwarz\"}\n",
        "\n",
        "    fransizca_kelimeler = {\"le\", \"la\", \"et\", \"est\", \"pas\", \"dans\", \"que\", \"un\", \"pour\",\"le\", \"de\", \"un\", \"être\", \"et\", \"à\", \"il\", \"avoir\", \"ne\", \"je\", \"son\",\n",
        "    \"que\", \"se\", \"qui\", \"dans\", \"ce\", \"en\", \"du\", \"elle\", \"au\", \"de\", \"la\",\n",
        "    \"les\", \"ce\", \"pas\", \"pour\", \"vous\", \"par\", \"mais\", \"sur\", \"plus\", \"dire\",\n",
        "    \"pouvoir\", \"lui\", \"nous\", \"comme\", \"leur\", \"faire\", \"ou\", \"aussi\",\n",
        "    \"aller\", \"bien\", \"où\", \"sans\", \"tout\", \"quel\", \"avant\", \"donc\", \"venir\", \"entre\", \"livre\", \"table\", \"stylo\", \"ordinateur\", \"téléphone\", \"ciel\", \"route\", \"maison\", \"ville\", \"pays\",\n",
        "    \"voiture\", \"porte\", \"personne\", \"enfant\", \"famille\", \"ami\", \"école\", \"université\", \"science\", \"art\",\n",
        "    \"beau\", \"mauvais\", \"rapide\", \"lent\", \"difficile\", \"facile\", \"chaud\", \"froid\", \"heureux\", \"triste\",\n",
        "    \"nature\", \"animal\", \"plante\", \"fleur\", \"mer\", \"montagne\", \"forêt\", \"rivière\", \"lac\", \"île\",\n",
        "    \"faim\", \"plein\", \"nuit\", \"jour\", \"matin\", \"midi\", \"soir\", \"neige\", \"pluie\", \"vent\",\n",
        "    \"soleil\", \"lune\", \"étoile\", \"temps\", \"feu\", \"eau\", \"terre\", \"œil\", \"oreille\", \"nez\",\n",
        "    \"bouche\", \"cheveux\", \"main\", \"pied\", \"langue\", \"dent\", \"visage\", \"cœur\", \"esprit\", \"âme\",\n",
        "    \"santé\", \"maladie\", \"médicament\", \"médecin\", \"patient\", \"vie\", \"mort\", \"temps\", \"moment\", \"heure\",\n",
        "    \"minute\", \"jour\", \"semaine\", \"mois\", \"année\", \"siècle\", \"tête\", \"fin\", \"avant\", \"arrière\",\n",
        "    \"nouveau\", \"vieux\", \"jeune\", \"vieux\", \"rouge\", \"bleu\", \"vert\", \"jaune\", \"blanc\", \"noir\"\n",
        "}\n",
        "\n",
        "    ispanyolca_kelimeler = {\"de\", \"la\", \"que\", \"el\", \"en\", \"y\", \"a\", \"los\", \"se\", \"del\", \"las\", \"por\",\n",
        "    \"un\", \"para\", \"con\", \"no\", \"una\", \"su\", \"al\", \"lo\", \"como\", \"más\", \"pero\",\n",
        "    \"sus\", \"le\", \"ya\", \"o\", \"fue\", \"este\", \"ha\", \"sí\", \"porque\", \"esta\", \"son\",\n",
        "    \"entre\", \"cuando\", \"muy\", \"sin\", \"sobre\", \"también\", \"me\", \"hasta\", \"hay\",\n",
        "    \"donde\", \"quien\", \"desde\", \"todo\", \"libro\", \"mesa\", \"lápiz\", \"computadora\", \"teléfono\", \"cielo\", \"camino\", \"casa\", \"ciudad\", \"país\",\n",
        "    \"coche\", \"puerta\", \"persona\", \"niño\", \"familia\", \"amigo\", \"escuela\", \"universidad\", \"ciencia\", \"arte\",\n",
        "    \"hermoso\", \"malo\", \"rápido\", \"lento\", \"difícil\", \"fácil\", \"caliente\", \"frío\", \"feliz\", \"triste\",\n",
        "    \"naturaleza\", \"animal\", \"planta\", \"flor\", \"mar\", \"montaña\", \"bosque\", \"río\", \"lago\", \"isla\",\n",
        "    \"hambriento\", \"lleno\", \"noche\", \"día\", \"mañana\", \"mediodía\", \"tarde\", \"nieve\", \"lluvia\", \"viento\",\n",
        "    \"sol\", \"luna\", \"estrella\", \"clima\", \"fuego\", \"agua\", \"tierra\", \"ojo\", \"oído\", \"nariz\",\n",
        "    \"boca\", \"pelo\", \"mano\", \"pie\", \"lengua\", \"diente\", \"cara\", \"corazón\", \"mente\", \"alma\",\n",
        "    \"salud\", \"enfermedad\", \"medicina\", \"doctor\", \"paciente\", \"vida\", \"muerte\", \"tiempo\", \"momento\", \"hora\",\n",
        "    \"minuto\", \"día\", \"semana\", \"mes\", \"año\", \"siglo\", \"cabeza\", \"final\", \"frente\", \"atrás\",\n",
        "    \"nuevo\", \"viejo\", \"joven\", \"viejo\", \"rojo\", \"azul\", \"verde\", \"amarillo\", \"blanco\", \"negro\"\n",
        "}\n",
        "\n",
        "    # Metini küçük harflere çevirir kelimelere ayırır\n",
        "    kelimeler = set(metin.lower().split())\n",
        "\n",
        "    # Her dilde kaç karakteristik kelime bulunduğunu sayma\n",
        "    turkce_sayisi = len(kelimeler & turkce_kelimeler)\n",
        "    ingilizce_sayisi = len(kelimeler & ingilizce_kelimeler)\n",
        "    almanca_sayisi = len(kelimeler & almanca_kelimeler)\n",
        "    fransizca_sayisi = len(kelimeler & fransizca_kelimeler)\n",
        "    ispanyolca_sayisi = len(kelimeler & ispanyolca_kelimeler)\n",
        "\n",
        "    # eşleşenler sözlükte saklanır\n",
        "    sayilar = {\n",
        "        \"Türkçe\": turkce_sayisi,\n",
        "        \"İngilizce\": ingilizce_sayisi,\n",
        "        \"Almanca\": almanca_sayisi,\n",
        "        \"Fransızca\": fransizca_sayisi,\n",
        "        \"İspanyolca\": ispanyolca_sayisi\n",
        "    }\n",
        "\n",
        "    # max  sayi bulunur\n",
        "    tespit_edilen_dil = max(sayilar, key=sayilar.get) #kaç kelime tespit edildi\n",
        "\n",
        "    if sayilar[tespit_edilen_dil] == 0:\n",
        "        return \"Dil tespit edilemedi\"\n",
        "\n",
        "    return tespit_edilen_dil\n",
        "\n",
        "metin = input(\"Lütfen bir metin giriniz: \")\n",
        "print(\"Metnin dili:\", dil_tespiti(metin))"
      ],
      "metadata": {
        "colab": {
          "base_uri": "https://localhost:8080/"
        },
        "id": "-Jx4WDcjVRlu",
        "outputId": "9b40fab0-22de-49b7-834f-9e0518454e54"
      },
      "execution_count": null,
      "outputs": [
        {
          "output_type": "stream",
          "name": "stdout",
          "text": [
            "Lütfen bir metin giriniz: On ne voit bien qu’avec le coeur. L’essentiel est invisible pour les yeux\n",
            "Metnin dili: Fransızca\n"
          ]
        }
      ]
    }
  ]
}