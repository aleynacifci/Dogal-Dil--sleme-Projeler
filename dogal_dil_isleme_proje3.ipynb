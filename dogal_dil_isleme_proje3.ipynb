{
  "nbformat": 4,
  "nbformat_minor": 0,
  "metadata": {
    "colab": {
      "provenance": [],
      "authorship_tag": "ABX9TyPu32/DmetAMVcFtzSGmXsM",
      "include_colab_link": true
    },
    "kernelspec": {
      "name": "python3",
      "display_name": "Python 3"
    },
    "language_info": {
      "name": "python"
    }
  },
  "cells": [
    {
      "cell_type": "markdown",
      "metadata": {
        "id": "view-in-github",
        "colab_type": "text"
      },
      "source": [
        "<a href=\"https://colab.research.google.com/github/aleynacifci/dogal_dil_isleme/blob/main/dogal_dil_isleme_proje3.ipynb\" target=\"_parent\"><img src=\"https://colab.research.google.com/assets/colab-badge.svg\" alt=\"Open In Colab\"/></a>"
      ]
    },
    {
      "cell_type": "code",
      "source": [
        "pip install langdetect"
      ],
      "metadata": {
        "colab": {
          "base_uri": "https://localhost:8080/"
        },
        "id": "qVZpL6qMJnk1",
        "outputId": "007b6123-5a16-46cf-f280-4449e61d3ace"
      },
      "execution_count": null,
      "outputs": [
        {
          "output_type": "stream",
          "name": "stdout",
          "text": [
            "Requirement already satisfied: langdetect in /usr/local/lib/python3.10/dist-packages (1.0.9)\n",
            "Requirement already satisfied: six in /usr/local/lib/python3.10/dist-packages (from langdetect) (1.16.0)\n"
          ]
        }
      ]
    },
    {
      "cell_type": "code",
      "source": [
        "from langdetect import detect\n",
        "def dil_tespit(metin):\n",
        "    try:\n",
        "        dil = detect(metin)\n",
        "        diller = {'tr': 'Türkçe', 'en': 'İngilizce', 'de': 'Almanca', 'fr': 'Fransızca', 'es': 'İspanyolca'}\n",
        "        if dil in diller: #benim yazdığım dilller arasında mı cevaplar\n",
        "            return f\"Bu metin {diller[dil]} dilinde yazılmıştır.\"\n",
        "        else:\n",
        "            return \"Dil algılanamadı\"\n",
        "    except:\n",
        "        return \"Hata\"\n",
        "\n",
        "metin = input(\"metin giriniz:\")\n",
        "print(dil_tespit(metin))"
      ],
      "metadata": {
        "colab": {
          "base_uri": "https://localhost:8080/"
        },
        "id": "LsDqpYbcJyLv",
        "outputId": "3afc4dae-c89a-4e88-c7ee-613e6c27c11b"
      },
      "execution_count": null,
      "outputs": [
        {
          "output_type": "stream",
          "name": "stdout",
          "text": [
            "metin giriniz:T'aimi\n",
            "Dil algılanamadı\n"
          ]
        }
      ]
    }
  ]
}