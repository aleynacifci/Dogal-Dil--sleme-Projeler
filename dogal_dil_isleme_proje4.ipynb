{
  "nbformat": 4,
  "nbformat_minor": 0,
  "metadata": {
    "colab": {
      "provenance": [],
      "authorship_tag": "ABX9TyNVm3lPnNmXzVenyO5M591u",
      "include_colab_link": true
    },
    "kernelspec": {
      "name": "python3",
      "display_name": "Python 3"
    },
    "language_info": {
      "name": "python"
    }
  },
  "cells": [
    {
      "cell_type": "markdown",
      "metadata": {
        "id": "view-in-github",
        "colab_type": "text"
      },
      "source": [
        "<a href=\"https://colab.research.google.com/github/aleynacifci/dogal_dil_isleme/blob/main/dogal_dil_isleme_proje4.ipynb\" target=\"_parent\"><img src=\"https://colab.research.google.com/assets/colab-badge.svg\" alt=\"Open In Colab\"/></a>"
      ]
    },
    {
      "cell_type": "code",
      "source": [
        "!pip install nltk"
      ],
      "metadata": {
        "colab": {
          "base_uri": "https://localhost:8080/"
        },
        "collapsed": true,
        "id": "hkqUYxZHClLc",
        "outputId": "98d2e357-df0e-4b61-82c5-649a753e2f59"
      },
      "execution_count": 10,
      "outputs": [
        {
          "output_type": "stream",
          "name": "stdout",
          "text": [
            "Requirement already satisfied: nltk in /usr/local/lib/python3.10/dist-packages (3.9.1)\n",
            "Requirement already satisfied: click in /usr/local/lib/python3.10/dist-packages (from nltk) (8.1.7)\n",
            "Requirement already satisfied: joblib in /usr/local/lib/python3.10/dist-packages (from nltk) (1.4.2)\n",
            "Requirement already satisfied: regex>=2021.8.3 in /usr/local/lib/python3.10/dist-packages (from nltk) (2024.9.11)\n",
            "Requirement already satisfied: tqdm in /usr/local/lib/python3.10/dist-packages (from nltk) (4.66.6)\n"
          ]
        }
      ]
    },
    {
      "cell_type": "code",
      "source": [
        "import nltk\n",
        "from nltk.tokenize import word_tokenize\n",
        "\n",
        "siyaset_kelimeler = {\"siyaset\",\"hükümet\", \"seçim\", \"politik\", \"başkan\", \"parti\",}\n",
        "teknoloji_kelimeler = {\"bilgisayar\", \"yazılım\", \"internet\", \"teknoloji\", \"yapay zeka\"}\n",
        "spor_kelimeler = {\"spor\",\"futbol\",\"basketbol\", \"maç\", \"antrenman\", \"spor\"}\n",
        "saglik_kelimeler = { \"sağlık\", \"hastane\", \"sağlık\", \"doktor\", \"tedavi\", \"hastalık\"}\n",
        "eglence_kelimeler = {\"eğlence\",\"sinema\", \"müzik\", \"film\", \"dizi\", \"konser\"}\n",
        "\n",
        "\n",
        "kelimeler = {\n",
        "    \"Siyaset\": siyaset_kelimeler,\n",
        "    \"Teknoloji\": teknoloji_kelimeler,\n",
        "    \"Spor\": spor_kelimeler,\n",
        "    \"Sağlık\": saglik_kelimeler,\n",
        "    \"Eğlence\": eglence_kelimeler\n",
        "}\n",
        "\n",
        "def konu_tespit(metin):\n",
        "    metin = metin.lower()\n",
        "    kelimeler = set(word_tokenize(metin))\n",
        "\n",
        "\n",
        "    siyaset_sayisi = len(siyaset_kelimeler.intersection(kelimeler))\n",
        "    teknoloji_sayisi = len(teknoloji_kelimeler.intersection(kelimeler))\n",
        "    spor_sayisi = len(spor_kelimeler.intersection(kelimeler))\n",
        "    saglik_sayisi = len(saglik_kelimeler.intersection(kelimeler))\n",
        "    eglence_sayisi = len(eglence_kelimeler.intersection(kelimeler))\n",
        "\n",
        "    # En çok eşleşen kategoriyi bulma\n",
        "    sayilari = {\n",
        "        \"Siyaset\": siyaset_sayisi,\n",
        "        \"Teknoloji\": teknoloji_sayisi,\n",
        "        \"Spor\": spor_sayisi,\n",
        "        \"Sağlık\": saglik_sayisi,\n",
        "        \"Eğlence\": eglence_sayisi\n",
        "    }\n",
        "\n",
        "    uygun_konu = max(sayilari, key=sayilari.get)\n",
        "\n",
        "\n",
        "    if sayilari[uygun_konu] == 0: # değer 0 ise diğer konuları döndürür\n",
        "        return \"Diğer Konular\"\n",
        "\n",
        "    return uygun_konu\n",
        "\n",
        "metin = input(\"Bir metin giriniz: \")\n",
        "print(konu_tespit(metin))"
      ],
      "metadata": {
        "colab": {
          "base_uri": "https://localhost:8080/"
        },
        "id": "9qnRvmE4CRpv",
        "outputId": "4235ecda-02bb-4bd9-b67c-b8ddd20056a4"
      },
      "execution_count": 16,
      "outputs": [
        {
          "output_type": "stream",
          "name": "stdout",
          "text": [
            "Bir metin giriniz: COVID-19, 2019'un sonlarında ortaya çıkıp dünya genelinde büyük bir sağlık krizi yaratan bir koronavirüs türüdür. SARS-CoV-2 virüsünün yol açtığı bu hastalık, özellikle solunum yollarını etkiler. COVID-19'un en belirgin semptomları arasında yüksek ateş, öksürük, nefes darlığı, tat ve koku kaybı, baş ağrısı ve kas ağrıları yer alır.\n",
            "Sağlık\n"
          ]
        }
      ]
    }
  ]
}