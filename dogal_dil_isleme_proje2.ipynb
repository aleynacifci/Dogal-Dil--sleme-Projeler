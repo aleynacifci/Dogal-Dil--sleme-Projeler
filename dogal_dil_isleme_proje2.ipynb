{
  "nbformat": 4,
  "nbformat_minor": 0,
  "metadata": {
    "colab": {
      "provenance": [],
      "authorship_tag": "ABX9TyObT3nZZKXXmVLBSDEN8Y6J",
      "include_colab_link": true
    },
    "kernelspec": {
      "name": "python3",
      "display_name": "Python 3"
    },
    "language_info": {
      "name": "python"
    }
  },
  "cells": [
    {
      "cell_type": "markdown",
      "metadata": {
        "id": "view-in-github",
        "colab_type": "text"
      },
      "source": [
        "<a href=\"https://colab.research.google.com/github/aleynacifci/dogal_dil_isleme/blob/main/dogal_dil_isleme_proje2.ipynb\" target=\"_parent\"><img src=\"https://colab.research.google.com/assets/colab-badge.svg\" alt=\"Open In Colab\"/></a>"
      ]
    },
    {
      "cell_type": "code",
      "source": [
        "def kelime_listesi(metin):\n",
        "  siyaset_kelimeler = {\"siyaset\",\"seçim\", \"hükümet\",\"seçim\",\"bakan\",\"kamu\",\"kanun\",\"anayasa\",\"yasama\",\"yürütme\",\"hak\",\"hukuk\",\"egemenlik\",\"millet\"\n",
        "    \"adalet\",\"siyasi\",\"parti\",\"iktidar\",\"milliyetçilik\",\"bakan\",\"yönetim\",\"başkan\",\"çözüm\",\"kriz\",\"bürokrasi\",\"oy\",\"sandık\",\"muhalefet\",\"lider\", \"strateji\", \"anayasa mahkemesi\",\n",
        "    \"hukuk devleti\", \"iç politika\", \"ideoloji\",\"kamuoyu\",\"basın\",\"seçmen\",\"pusula\",\"tarih\",\"yıl\",\"ekonomi\",\n",
        "    \"emekli\",\"zam\",\"ceza\",\"göçmen\",\"sınırlar\",\"liderlik\",\"vatandaşlık\",\"irade\",\"güç\",\"meclis\",\"etik\"\"görev süresi\",\n",
        "    \"halk oylaması\", \"kamu hizmeti\", \"kamu düzeni\",  \"politikacı\", \"mevzuat\", \"reform\", \"anayasal hak\", \"koalisyon\", \"yasama organı\", \"yetki\", \"yaptırım\",\n",
        "    \"demokrasi\", \"diktatörlük\", \"rejim\", \"temsilci\", \"parlamento\", \"referandum\", \"sözleşme\", \"müzakere\",\n",
        "    \"ittifak\", \"örgütlenme\", \"konferans\", \"toplantı\", \"görüş\", \"taslak\", \"anayasal düzen\", \"içtihat\",\n",
        "    \"müdahale\", \"rüşvet\", \"kaynak\", \"denetim\", \"komisyon\", \"şeffaflık\", \"sivil toplum\", \"caydırıcılık\",\n",
        "    \"propaganda\", \"bağımsızlık\", \"devletçi\", \"demokratik süreç\", \"oy oranı\", \"politik duruş\", \"bürokrat\",\n",
        "    \"devlet memuru\", \"yasa tasarısı\", \"toplumsal yapı\", \"görüş ayrılığı\", \"denge\", \"devrim\", \"vatandaş inisiyatifi\",\n",
        "    \"hak savunucusu\", \"özgürlük\", \"çalıştay\", \"üstünlük\", \"çıkar çatışması\" }\n",
        "\n",
        "\n",
        "  teknoloji_kelimeler ={\"teknoloji\",\"yenilik\",\"inovasyon\",\"yapay zeka\",\"internet\",\"verinin modellenmesi\",\"bilişim\",\n",
        "\"veri\",\"açık erişim\",\"ağ\",\"etki\",\"blockchain\",\"robot\",\"telefon\",\"bilgisayar\",\"tablet\",\"bilişim\",\"makine öğrenimi\",\"big data\",\"otomasyon\",\"donanım\",\n",
        "\"mobil uygulama\",\"veri tabanı\",\"veri bilimi\",\"siber saldırı\",\"bilgisayar bilimleri\",\"açık kaynak\",\"erişim\",\"dijital okuryazarlık\",\"data mining\",\"cloud\",\n",
        "\"ekran\", \"tarayıcı\", \"ağ\", \"parola\", \"kablo\",\"akıllı saat\", \"kulaklık\", \"dokunmatik ekran\",\"usb\",\"güç kaynağı\",\"dosya paylaşımı\",\n",
        "\"dijital\",\"fotoğraf\",\"video\",\"ses\",\"hoparlör\",\"yeniden başlat\",\"indir\",\"yükle\",\"tarayıcı geçmişi\",\"hesap\", \"ağ ayarları\", \"ayarlar\", \"yazıcı\", \"veri\", \"güncelleme\", \"şifre\",}\n",
        "\n",
        "\n",
        "  spor_kelimeler = {\"spor\",\"voleybol\",\"basketbol\",\"futbol\",\"fenerbahçe\",\"takım\",\"olimpiyat\",\"kas\",\"ağırlık\",\"şampiyon\",\"spor bilimleri\",\"genç\",\"aktivite\",\"hareket\",\"yüzme\",\n",
        "\"koşu\", \"bisiklet\", \"kayak\", \"snowboard\",\"beyzbol\",\"ragbi\",\"kriket\",\"hentbol\", \"atletizm\",\"maraton\", \"rekor\", \"antrenman\", \"takım\", \"oyuncu\",\"koç\", \"hakem\", \"gol\", \"asist\",\n",
        "\"smaç\",\"blok\", \"penaltı\", \"kırmızı kart\", \"sarı kart\", \"şut\", \"pas\", \"savunma\", \"hücum\", \"pozisyon\", \"stadyum\", \"yarış\", \"diskalifiye\", \"skor\", \"beraberlik\", \"şampiyon\", \"kupa\",\n",
        "\"madalya\", \"lig\", \"turnuva\", \"müsabaka\", \"taraftar\", \"form\", \"kondisyon\", \"saha\", \"tribün\",\"oyun kurucu\",\n",
        "\"gol çizgisi\", \"tekvando\", \"cirit\", \"halter\", \"triatlon\", \"fitness\", \"dayanıklılık\", \"enerji\",\"denge\"\n",
        "\"güreş\", \"yaz olimpiyatları\", \"kış olimpiyatları\", \"stamina\", \"kardiyo\", \"ısınma\", \"esnetme\",\n",
        "\"nefes kontrolü\", \"kişisel rekor\", \"yoga\", \"plate\", \"okçuluk\", \"scout\", \"karate\", \"buz hokeyi\",\n",
        "\"maç özetleri\", \"oyun temposu\", \"takım kaptanı\", \"koordinasyon\", \"fair play\", \"penaltı kurtarma\", \"serbest vuruş\" }\n",
        "\n",
        "\n",
        "  saglik_kelimeler = {\"sağlık\",\"aşı\",\"covid-19\",\"ilaç\",\"hastalık\",\"diyet\",\"kronik\",\"kanser\",\"genetik\",\"grip\",\"nezle\",\"araştırma\",\"sonuç\",\"tahlil\",\"kan\",\"bağışıklık\",\n",
        "\"kan testi\",\"görüntüleme\",\"ultrason\",\"MR\",\"tomografi\",\"kanser\",\"diyabet\", \"hipertansiyon\",  \"kalp hastalığı\", \"obezite\",\n",
        "\"fizik tedavi\", \"rehabilitasyon\",  \"genetik\", \"psikoloji\", \"terapi\", \"bağımlılık\", \"stres\", \"ruhsal sağlık\", \"egzersiz\", \"fiziksel aktivite\", \"sağlıklı yaşam\",\n",
        "\"sağlık sigortası\", \"hasta\", \"epidemiyoloji\", \"karantina\",\"check-up\", \"sağlık kontrolü\", \"kanser taraması\", \"biyopsi\", \"tansiyon ölçümü\", \"vitamin eksikliği\",\n",
        "\"göz doktoru\", \"ortopedi\", \"psikiyatri\", \"romatizma\", \"diş hekimi\", \"check-up programı\", \"hasta hakları\",\n",
        "\"kan şekeri\", \"kemik yoğunluğu\", \"diyetisyen\", \"fizyoloji\", \"nöroloji\", \"enjeksiyon\", \"serum\",\n",
        "\"kardiyolog\", \"maske\", \"doğal bağışıklık\", \"kronik hastalık\", \"yeni doğan\", \"çocuk sağlığı\",\n",
        "\"önleyici sağlık\", \"fizyoterapist\", \"kansızlık\", \"sağlık çalışanı\" }\n",
        "\n",
        "\n",
        "  eglence_kelimeler = {\"eglence\",\"parti\",\"konser\",\"oyun\",\"arkadaş\",\"sinema\",\"tiyatro\",\"kültür\",\"festival\",\"sahne\",\"komedi\",\"zeka oyunları\",\"sanat\",\"sanatçı\",\"aktör\",\"aktris\",\n",
        "\"dekor\",\"lunapark\",\"müzik\",\"şarkı\",\"dans\",\"konsept\",\"dizi\",\"senaryo\",\"popüler kültür\", \"fotoğrafçılık\", \"film festivali\", \"magazin\",\n",
        "\"tiyatro sahnesi\", \"dans kursu\",\"canlı performans\", \"kostüm\", \"sanat galeri\", \"interaktif oyun\", \"resim sanatı\", \"ses kaydı\",\n",
        "\"dijital sanat\", \"drama\", \"dizi karakteri\", \"grafiti\", \"kamera arkası\", \"dublaj\", \"müzik festivali\",\n",
        "\"klasik müzik\", \"film yönetmeni\", \"roman karakteri\", \"sinema bileti\", \"okuma etkinliği\",\n",
        "\"kitap kulübü\", \"sanat merkezi\", \"izleyici\", \"radyo programı\", \"mim\", \"yeni çıkış yapan sanatçı\"\n",
        "}\n",
        "\n",
        "\n",
        "  kelimeler = set(metin.lower().split())\n",
        "\n",
        "  siyaset_sayisi = len(siyaset_kelimeler.intersection(kelimeler))\n",
        "  teknoloji_sayisi = len(teknoloji_kelimeler.intersection(kelimeler))\n",
        "  spor_sayisi = len(spor_kelimeler.intersection(kelimeler))\n",
        "  saglik_sayisi = len(saglik_kelimeler.intersection(kelimeler))\n",
        "  eglence_sayisi = len(eglence_kelimeler.intersection(kelimeler))\n",
        "\n",
        "  sayilar = {\"Siyaset\": siyaset_sayisi,\n",
        "             \"Teknoloji\": teknoloji_sayisi,\n",
        "             \"Spor\": spor_sayisi,\n",
        "             \"Sağlık\": saglik_sayisi,\n",
        "             \"Eğlence\": eglence_sayisi}\n",
        "\n",
        "  tespit_edilen_konu = max(sayilar, key=sayilar.get)\n",
        "\n",
        "  if sayilar[tespit_edilen_konu] == 0:\n",
        "    print(\"Diğer Konular\")\n",
        "    return \"Konu tespit edilmedi\"\n",
        "  else:\n",
        "    return tespit_edilen_konu\n",
        "\n",
        "metin = input(\"Bir metin giriniz: \")\n",
        "print(kelime_listesi(metin))"
      ],
      "metadata": {
        "colab": {
          "base_uri": "https://localhost:8080/"
        },
        "id": "otdat5Pdrha2",
        "outputId": "309de8e7-37bb-427a-922a-06fd3fdb2f14"
      },
      "execution_count": null,
      "outputs": [
        {
          "output_type": "stream",
          "name": "stdout",
          "text": [
            "Bir metin giriniz: Egemenlik kayıtsız şartsız milletindir\n",
            "Siyaset\n"
          ]
        }
      ]
    }
  ]
}