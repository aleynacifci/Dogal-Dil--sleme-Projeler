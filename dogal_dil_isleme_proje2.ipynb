{
  "nbformat": 4,
  "nbformat_minor": 0,
  "metadata": {
    "colab": {
      "provenance": [],
      "authorship_tag": "ABX9TyOAsaXYh+tstbCySMlLVtie",
      "include_colab_link": true
    },
    "kernelspec": {
      "name": "python3",
      "display_name": "Python 3"
    },
    "language_info": {
      "name": "python"
    }
  },
  "cells": [
    {
      "cell_type": "markdown",
      "metadata": {
        "id": "view-in-github",
        "colab_type": "text"
      },
      "source": [
        "<a href=\"https://colab.research.google.com/github/aleynacifci/dogal_dil_isleme/blob/main/dogal_dil_isleme_proje2.ipynb\" target=\"_parent\"><img src=\"https://colab.research.google.com/assets/colab-badge.svg\" alt=\"Open In Colab\"/></a>"
      ]
    },
    {
      "cell_type": "code",
      "source": [
        "def kelime_listesi(metin):\n",
        "  siyaset_kelimeler = {\"siyaset\",\"seçim\", \"hükümet\",\"seçim\",\"bakan\",\"kamu\",\"kanun\",\"anayasa\",\"yasama\",\"yürütme\",\"hak\",\"hukuk\",\"adalet\",\"siyasi\",\"parti\",\"iktidar\",\"milliyetçilik\",\"bakan\",\"yönetim\",\"başkan\",\"çözüm\",\"kriz\",\"bürokrasi\",\"oy\",\"sandık\",\"muhalefet\",\"lider\", \"strateji\", \"anayasa mahkemesi\",\n",
        "    \"hukuk devleti\", \"iç politika\", \"ideoloji\",\"kamuoyu\",\"basın\",\"seçmen\",\"pusula\",\"tarih\",\"yıl\",\"ekonomi\",\"emekli\",\"zam\",\"ceza\",\"göçmen\",\"sınırlar\",\"liderlik\",\"vatandaşlık\",\"irade\",\"güç\",\"meclis\",\"etik\"\"görev süresi\", \"halk oylaması\", \"kamu hizmeti\", \"kamu düzeni\", }\n",
        "\n",
        "\n",
        "  teknoloji_kelimeler ={\"teknoloji\",\"yenilik\",\"inovasyon\",\"yapay zeka\",\"internet\",\"verinin modellenmesi\",\"bilişim\",\"veri\",\"ağ\",\"etki\",\"blockchain\",\"robot\",\"telefon\",\"bilgisayar\",\"tablet\",\"bilişim\",\"makine öğrenimi\",\"big data\",\"otomasyon\",\"donanım\",\"mobil uygulama\",\"veri tabanı\",\"veri bilimi\",\"siber saldırı\",\"bilgisayar bilimleri\",\"açık kaynak\",\"erişim\",\"dijital okuryazarlık\",\"data mining\",\"cloud\",\n",
        "\"ekran\", \"tarayıcı\", \"ağ\", \"parola\", \"kablo\",\"akıllı saat\", \"kulaklık\", \"dokunmatik ekran\",\"usb\",\"güç kaynağı\",\"dosya paylaşımı\",\"dijital\",\"fotoğraf\",\"video\",\"ses\",\"hoparlör\",\"yeniden başlat\",\"indir\",\"yükle\",\"tarayıcı geçmişi\",\"hesap\", \"ağ ayarları\", \"ayarlar\", \"yazıcı\", \"veri\", \"güncelleme\", \"şifre\",}\n",
        "\n",
        "\n",
        "  spor_kelimeler = {\"spor\",\"voleybol\",\"basketbol\",\"futbol\",\"fenerbahçe\",\"takım\",\"olimpiyat\",\"kas\",\"ağırlık\",\"şampiyon\",\"spor bilimleri\",\"genç\",\"aktivite\",\"hareket\",\"yüzme\", \"koşu\", \"bisiklet\", \"kayak\", \"snowboard\",\"beyzbol\",\"ragbi\",\"kriket\",\"hentbol\", \"atletizm\",\"maraton\", \"rekor\", \"antrenman\", \"takım\", \"oyuncu\",\"koç\", \"hakem\", \"gol\", \"asist\", \"smaç\",\"blok\", \"penaltı\", \"kırmızı kart\", \"sarı kart\", \"şut\", \"pas\", \"savunma\", \"hücum\", \"pozisyon\", \"stadyum\", \"yarış\", \"diskalifiye\", \"skor\", \"beraberlik\", \"şampiyon\", \"kupa\", \"madalya\", \"lig\", \"turnuva\", \"müsabaka\", \"taraftar\", \"form\", \"kondisyon\", \"saha\", \"tribün\", }\n",
        "\n",
        "\n",
        "  saglik_kelimeler = {\"sağlık\",\"aşı\",\"covid-19\",\"ilaç\",\"hastalık\",\"diyet\",\"kronik\",\"kanser\",\"genetik\",\"grip\",\"nezle\",\"araştırma\",\"sonuç\",\"tahlil\",\"kan\",\"bağışıklık\", \"kan testi\",\"görüntüleme\",\"ultrason\",\"MR\",\"tomografi\",\"kanser\",\"diyabet\", \"hipertansiyon\",  \"kalp hastalığı\", \"obezite\", \"fizik tedavi\", \"rehabilitasyon\",  \"genetik\", \"psikoloji\", \"terapi\", \"bağımlılık\", \"stres\", \"ruhsal sağlık\", \"egzersiz\", \"fiziksel aktivite\", \"sağlıklı yaşam\", \"sağlık sigortası\", \"hasta\", \"epidemiyoloji\", \"karantina\", }\n",
        "\n",
        "\n",
        "  eglence_kelimeler = {\"eglence\",\"parti\",\"konser\",\"oyun\",\"arkadaş\",\"sinema\",\"tiyatro\",\"kültür\",\"festival\",\"sahne\",\"komedi\",\"zeka oyunları\",\"sanat\",\"sanatçı\",\"aktör\",\"aktris\",\"dekor\",\"lunapark\",\"müzik\",\"şarkı\",\"dans\",\"konsept\",\"dizi\",\"senaryo\"}\n",
        "  kelimeler = set(metin.lower().split())\n",
        "\n",
        "  siyaset_sayisi = len(siyaset_kelimeler.intersection(kelimeler))\n",
        "  teknoloji_sayisi = len(teknoloji_kelimeler.intersection(kelimeler))\n",
        "  spor_sayisi = len(spor_kelimeler.intersection(kelimeler))\n",
        "  saglik_sayisi = len(saglik_kelimeler.intersection(kelimeler))\n",
        "  eglence_sayisi = len(eglence_kelimeler.intersection(kelimeler))\n",
        "\n",
        "  sayilar = {\"Siyaset\": siyaset_sayisi,\n",
        "             \"Teknoloji\": teknoloji_sayisi,\n",
        "             \"Spor\": spor_sayisi,\n",
        "             \"Sağlık\": saglik_sayisi,\n",
        "             \"Eğlence\": eglence_sayisi}\n",
        "\n",
        "  tespit_edilen_konu = max(sayilar, key=sayilar.get)\n",
        "\n",
        "  if sayilar[tespit_edilen_konu] == 0:\n",
        "    print(\"Diğer Konular\")\n",
        "    return \"Konu tespit edilmedi\"\n",
        "  else:\n",
        "    return tespit_edilen_konu\n",
        "\n",
        "metin = input(\"Bir metin giriniz: \")\n",
        "print(kelime_listesi(metin))"
      ],
      "metadata": {
        "colab": {
          "base_uri": "https://localhost:8080/"
        },
        "id": "otdat5Pdrha2",
        "outputId": "e54eee39-bdaa-452a-8d2e-07cf77e45127"
      },
      "execution_count": 3,
      "outputs": [
        {
          "output_type": "stream",
          "name": "stdout",
          "text": [
            "Bir metin giriniz: Kitap muhafazakârlık kavramını siyaset felsefesi açısından ele almaktadır.\n",
            "Siyaset\n"
          ]
        }
      ]
    }
  ]
}